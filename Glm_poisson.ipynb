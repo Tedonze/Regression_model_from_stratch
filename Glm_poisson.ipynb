{
 "cells": [
  {
   "cell_type": "code",
   "execution_count": 206,
   "metadata": {},
   "outputs": [],
   "source": [
    "import matplotlib.pyplot as plt\n",
    "import numpy as np\n",
    "import statsmodels.api as sm\n",
    "from sklearn.datasets import load_diabetes\n",
    "from sklearn.metrics import mean_squared_error\n",
    "\n",
    "\n"
   ]
  },
  {
   "cell_type": "code",
   "execution_count": 98,
   "metadata": {},
   "outputs": [],
   "source": [
    "source = load_diabetes()\n",
    "X = source.data\n",
    "y = source.target"
   ]
  },
  {
   "attachments": {},
   "cell_type": "markdown",
   "metadata": {},
   "source": [
    "## GLM Poisson from Stratch"
   ]
  },
  {
   "attachments": {},
   "cell_type": "markdown",
   "metadata": {},
   "source": [
    "Idea : Write the negative likelihood and use gradient descend to find the optimal value of beta\n",
    "\n",
    "$$ \\frac{\\partial L(\\beta)}{\\partial \\beta} = X^T(y-\\hat y)$$\n",
    "$$ \\hat y = \\exp(X^T\\beta)$$"
   ]
  },
  {
   "cell_type": "code",
   "execution_count": null,
   "metadata": {},
   "outputs": [],
   "source": []
  },
  {
   "cell_type": "code",
   "execution_count": 24,
   "metadata": {},
   "outputs": [],
   "source": [
    "def standard_scaler(x):\n",
    "    ''' \n",
    "    Standartize our feature\n",
    "    '''\n",
    "    return (x-x.mean())/x.std()"
   ]
  },
  {
   "cell_type": "code",
   "execution_count": 258,
   "metadata": {},
   "outputs": [],
   "source": [
    "class regression_poisson:\n",
    "    def __init__(self, lr=1e-6,n_iter=100000, add_intercept=True, standard =False) :\n",
    "        self.lr=lr\n",
    "        self.add_intercept = add_intercept\n",
    "        self.standard = standard\n",
    "        self.n_iter = n_iter\n",
    "        self.beta =  None\n",
    "        self.mean = None\n",
    "        self.std =  None\n",
    "    def fit(self,X,y):\n",
    "        if self.standard:\n",
    "            self.mean = X.mean()\n",
    "            self.std = X.std()\n",
    "            X = standard_scaler(X)\n",
    "\n",
    "        if self.add_intercept:\n",
    "            ones = np.ones((len(X),1))\n",
    "            X = np.append(ones, X,axis=1)\n",
    "\n",
    "        beta_hat = np.zeros(X.shape[1])\n",
    "        for _ in range(self.n_iter):\n",
    "            y_hat = np.exp(np.dot(X,beta_hat))\n",
    "            grad = np.dot(X.T,y_hat-y)\n",
    "            beta_hat+= -self.lr*grad\n",
    "        self.beta = beta_hat\n",
    "    def predict(self,X):\n",
    "\n",
    "        assert self.beta is not None ,'not fitted yet'\n",
    "        if self.standard:\n",
    "            X = (X - self.mean) /self.std\n",
    "        if self.add_intercept:\n",
    "            ones = np.ones((len(X),1))\n",
    "            X = np.append(ones, X,axis=1)\n",
    "        return np.exp(np.dot(X,self.beta))"
   ]
  },
  {
   "cell_type": "code",
   "execution_count": 261,
   "metadata": {},
   "outputs": [
    {
     "data": {
      "text/plain": [
       "53.983234599101124"
      ]
     },
     "execution_count": 261,
     "metadata": {},
     "output_type": "execute_result"
    }
   ],
   "source": [
    "model= regression_poisson()\n",
    "model.fit(X,y)\n",
    "y_predict = model.predict(X)\n",
    "mean_squared_error(y, y_predict, squared=False)"
   ]
  },
  {
   "cell_type": "code",
   "execution_count": 253,
   "metadata": {},
   "outputs": [
    {
     "data": {
      "text/plain": [
       "array([ 4.96051543,  0.05755439, -1.52591447,  3.16076947,  2.08204279,\n",
       "       -1.22450743,  0.83003618, -1.91437524, -0.29900342,  3.53782574,\n",
       "        0.36202108])"
      ]
     },
     "execution_count": 253,
     "metadata": {},
     "output_type": "execute_result"
    }
   ],
   "source": [
    "model.beta"
   ]
  },
  {
   "attachments": {},
   "cell_type": "markdown",
   "metadata": {},
   "source": [
    "## Glm Poisson with statsmodel\n"
   ]
  },
  {
   "cell_type": "code",
   "execution_count": 256,
   "metadata": {},
   "outputs": [],
   "source": [
    "X_=sm.add_constant(X)"
   ]
  },
  {
   "cell_type": "code",
   "execution_count": 257,
   "metadata": {},
   "outputs": [
    {
     "data": {
      "text/html": [
       "<table class=\"simpletable\">\n",
       "<caption>Generalized Linear Model Regression Results</caption>\n",
       "<tr>\n",
       "  <th>Dep. Variable:</th>           <td>y</td>        <th>  No. Observations:  </th>  <td>   442</td> \n",
       "</tr>\n",
       "<tr>\n",
       "  <th>Model:</th>                  <td>GLM</td>       <th>  Df Residuals:      </th>  <td>   431</td> \n",
       "</tr>\n",
       "<tr>\n",
       "  <th>Model Family:</th>         <td>Poisson</td>     <th>  Df Model:          </th>  <td>    10</td> \n",
       "</tr>\n",
       "<tr>\n",
       "  <th>Link Function:</th>          <td>Log</td>       <th>  Scale:             </th> <td>  1.0000</td>\n",
       "</tr>\n",
       "<tr>\n",
       "  <th>Method:</th>                <td>IRLS</td>       <th>  Log-Likelihood:    </th> <td> -5718.6</td>\n",
       "</tr>\n",
       "<tr>\n",
       "  <th>Date:</th>            <td>Sat, 23 Dec 2023</td> <th>  Deviance:          </th> <td>  8466.7</td>\n",
       "</tr>\n",
       "<tr>\n",
       "  <th>Time:</th>                <td>16:59:34</td>     <th>  Pearson chi2:      </th> <td>8.33e+03</td>\n",
       "</tr>\n",
       "<tr>\n",
       "  <th>No. Iterations:</th>          <td>5</td>        <th>  Pseudo R-squ. (CS):</th>  <td> 1.000</td> \n",
       "</tr>\n",
       "<tr>\n",
       "  <th>Covariance Type:</th>     <td>nonrobust</td>    <th>                     </th>     <td> </td>   \n",
       "</tr>\n",
       "</table>\n",
       "<table class=\"simpletable\">\n",
       "<tr>\n",
       "    <td></td>       <th>coef</th>     <th>std err</th>      <th>z</th>      <th>P>|z|</th>  <th>[0.025</th>    <th>0.975]</th>  \n",
       "</tr>\n",
       "<tr>\n",
       "  <th>const</th> <td>    4.9570</td> <td>    0.004</td> <td> 1203.231</td> <td> 0.000</td> <td>    4.949</td> <td>    4.965</td>\n",
       "</tr>\n",
       "<tr>\n",
       "  <th>x1</th>    <td>    0.0198</td> <td>    0.091</td> <td>    0.217</td> <td> 0.828</td> <td>   -0.158</td> <td>    0.198</td>\n",
       "</tr>\n",
       "<tr>\n",
       "  <th>x2</th>    <td>   -1.5894</td> <td>    0.090</td> <td>  -17.586</td> <td> 0.000</td> <td>   -1.767</td> <td>   -1.412</td>\n",
       "</tr>\n",
       "<tr>\n",
       "  <th>x3</th>    <td>    2.9769</td> <td>    0.093</td> <td>   31.983</td> <td> 0.000</td> <td>    2.794</td> <td>    3.159</td>\n",
       "</tr>\n",
       "<tr>\n",
       "  <th>x4</th>    <td>    2.0816</td> <td>    0.095</td> <td>   21.998</td> <td> 0.000</td> <td>    1.896</td> <td>    2.267</td>\n",
       "</tr>\n",
       "<tr>\n",
       "  <th>x5</th>    <td>   -8.9444</td> <td>    0.615</td> <td>  -14.540</td> <td> 0.000</td> <td>  -10.150</td> <td>   -7.739</td>\n",
       "</tr>\n",
       "<tr>\n",
       "  <th>x6</th>    <td>    7.1555</td> <td>    0.494</td> <td>   14.480</td> <td> 0.000</td> <td>    6.187</td> <td>    8.124</td>\n",
       "</tr>\n",
       "<tr>\n",
       "  <th>x7</th>    <td>    1.2613</td> <td>    0.330</td> <td>    3.819</td> <td> 0.000</td> <td>    0.614</td> <td>    1.909</td>\n",
       "</tr>\n",
       "<tr>\n",
       "  <th>x8</th>    <td>    0.1761</td> <td>    0.237</td> <td>    0.744</td> <td> 0.457</td> <td>   -0.288</td> <td>    0.640</td>\n",
       "</tr>\n",
       "<tr>\n",
       "  <th>x9</th>    <td>    6.9012</td> <td>    0.275</td> <td>   25.055</td> <td> 0.000</td> <td>    6.361</td> <td>    7.441</td>\n",
       "</tr>\n",
       "<tr>\n",
       "  <th>x10</th>   <td>    0.3594</td> <td>    0.098</td> <td>    3.678</td> <td> 0.000</td> <td>    0.168</td> <td>    0.551</td>\n",
       "</tr>\n",
       "</table>"
      ],
      "text/plain": [
       "<class 'statsmodels.iolib.summary.Summary'>\n",
       "\"\"\"\n",
       "                 Generalized Linear Model Regression Results                  \n",
       "==============================================================================\n",
       "Dep. Variable:                      y   No. Observations:                  442\n",
       "Model:                            GLM   Df Residuals:                      431\n",
       "Model Family:                 Poisson   Df Model:                           10\n",
       "Link Function:                    Log   Scale:                          1.0000\n",
       "Method:                          IRLS   Log-Likelihood:                -5718.6\n",
       "Date:                Sat, 23 Dec 2023   Deviance:                       8466.7\n",
       "Time:                        16:59:34   Pearson chi2:                 8.33e+03\n",
       "No. Iterations:                     5   Pseudo R-squ. (CS):              1.000\n",
       "Covariance Type:            nonrobust                                         \n",
       "==============================================================================\n",
       "                 coef    std err          z      P>|z|      [0.025      0.975]\n",
       "------------------------------------------------------------------------------\n",
       "const          4.9570      0.004   1203.231      0.000       4.949       4.965\n",
       "x1             0.0198      0.091      0.217      0.828      -0.158       0.198\n",
       "x2            -1.5894      0.090    -17.586      0.000      -1.767      -1.412\n",
       "x3             2.9769      0.093     31.983      0.000       2.794       3.159\n",
       "x4             2.0816      0.095     21.998      0.000       1.896       2.267\n",
       "x5            -8.9444      0.615    -14.540      0.000     -10.150      -7.739\n",
       "x6             7.1555      0.494     14.480      0.000       6.187       8.124\n",
       "x7             1.2613      0.330      3.819      0.000       0.614       1.909\n",
       "x8             0.1761      0.237      0.744      0.457      -0.288       0.640\n",
       "x9             6.9012      0.275     25.055      0.000       6.361       7.441\n",
       "x10            0.3594      0.098      3.678      0.000       0.168       0.551\n",
       "==============================================================================\n",
       "\"\"\""
      ]
     },
     "execution_count": 257,
     "metadata": {},
     "output_type": "execute_result"
    }
   ],
   "source": [
    "glm_poisson = sm.GLM(y,X_, family=sm.families.Poisson())\n",
    "glm_poisson=glm_poisson.fit()\n",
    "glm_poisson.summary()\n",
    "\n"
   ]
  },
  {
   "cell_type": "code",
   "execution_count": 249,
   "metadata": {},
   "outputs": [
    {
     "data": {
      "text/plain": [
       "53.14502666105215"
      ]
     },
     "execution_count": 249,
     "metadata": {},
     "output_type": "execute_result"
    }
   ],
   "source": [
    "y_predict = glm_poisson.predict(X_)\n",
    "mean_squared_error(y, y_predict, squared=False)"
   ]
  },
  {
   "attachments": {},
   "cell_type": "markdown",
   "metadata": {},
   "source": [
    "In conclusion , the method method one from strach and one with statsmodel give approximately the same result"
   ]
  },
  {
   "cell_type": "code",
   "execution_count": null,
   "metadata": {},
   "outputs": [],
   "source": []
  },
  {
   "cell_type": "code",
   "execution_count": null,
   "metadata": {},
   "outputs": [],
   "source": []
  },
  {
   "cell_type": "code",
   "execution_count": null,
   "metadata": {},
   "outputs": [],
   "source": []
  }
 ],
 "metadata": {
  "kernelspec": {
   "display_name": "base",
   "language": "python",
   "name": "python3"
  },
  "language_info": {
   "codemirror_mode": {
    "name": "ipython",
    "version": 3
   },
   "file_extension": ".py",
   "mimetype": "text/x-python",
   "name": "python",
   "nbconvert_exporter": "python",
   "pygments_lexer": "ipython3",
   "version": "3.9.16"
  },
  "orig_nbformat": 4
 },
 "nbformat": 4,
 "nbformat_minor": 2
}
